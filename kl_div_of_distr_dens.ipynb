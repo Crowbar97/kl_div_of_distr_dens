{
  "nbformat": 4,
  "nbformat_minor": 0,
  "metadata": {
    "kernelspec": {
      "display_name": "Python 3",
      "language": "python",
      "name": "python3"
    },
    "language_info": {
      "codemirror_mode": {
        "name": "ipython",
        "version": 3
      },
      "file_extension": ".py",
      "mimetype": "text/x-python",
      "name": "python",
      "nbconvert_exporter": "python",
      "pygments_lexer": "ipython3",
      "version": "3.7.3"
    },
    "colab": {
      "name": "kl_div_of_distr_dens.ipynb",
      "provenance": [],
      "collapsed_sections": [],
      "include_colab_link": true
    }
  },
  "cells": [
    {
      "cell_type": "markdown",
      "metadata": {
        "id": "view-in-github",
        "colab_type": "text"
      },
      "source": [
        "<a href=\"https://colab.research.google.com/github/Crowbar97/kl_div_of_distr_dens/blob/master/kl_div_of_distr_dens.ipynb\" target=\"_parent\"><img src=\"https://colab.research.google.com/assets/colab-badge.svg\" alt=\"Open In Colab\"/></a>"
      ]
    },
    {
      "cell_type": "code",
      "metadata": {
        "id": "aQRitXO89l2L",
        "colab_type": "code",
        "colab": {
          "base_uri": "https://localhost:8080/",
          "height": 457
        },
        "outputId": "906ced9a-5144-4b09-fc3c-565dda721cee"
      },
      "source": [
        "!tree -a"
      ],
      "execution_count": 6,
      "outputs": [
        {
          "output_type": "stream",
          "text": [
            ".\n",
            "├── .config\n",
            "│   ├── active_config\n",
            "│   ├── config_sentinel\n",
            "│   ├── configurations\n",
            "│   │   └── config_default\n",
            "│   ├── gce\n",
            "│   ├── .last_update_check.json\n",
            "│   ├── logs\n",
            "│   │   └── 2019.08.27\n",
            "│   │       ├── 16.17.00.530950.log\n",
            "│   │       ├── 16.17.07.367707.log\n",
            "│   │       ├── 16.17.17.407104.log\n",
            "│   │       ├── 16.17.21.663235.log\n",
            "│   │       └── 16.17.22.686467.log\n",
            "│   └── .metricsUUID\n",
            "└── sample_data\n",
            "    ├── anscombe.json\n",
            "    ├── california_housing_test.csv\n",
            "    ├── california_housing_train.csv\n",
            "    ├── mnist_test.csv\n",
            "    ├── mnist_train_small.csv\n",
            "    └── README.md\n",
            "\n",
            "5 directories, 17 files\n"
          ],
          "name": "stdout"
        }
      ]
    },
    {
      "cell_type": "code",
      "metadata": {
        "id": "bUA5C3Y5pxxP",
        "colab_type": "code",
        "outputId": "d17dc042-35f2-437a-b238-8b9f65e579a4",
        "colab": {
          "base_uri": "https://localhost:8080/",
          "height": 105
        }
      },
      "source": [
        "!ls -al"
      ],
      "execution_count": 1,
      "outputs": [
        {
          "output_type": "stream",
          "text": [
            "total 16\n",
            "drwxr-xr-x 1 root root 4096 Aug 27 16:17 .\n",
            "drwxr-xr-x 1 root root 4096 Oct  9 06:20 ..\n",
            "drwxr-xr-x 1 root root 4096 Oct  7 15:14 .config\n",
            "drwxr-xr-x 1 root root 4096 Aug 27 16:17 sample_data\n"
          ],
          "name": "stdout"
        }
      ]
    },
    {
      "cell_type": "code",
      "metadata": {
        "id": "Qr2f-t_qqPT5",
        "colab_type": "code",
        "colab": {}
      },
      "source": [
        "!find / -iname *div_of*"
      ],
      "execution_count": 0,
      "outputs": []
    },
    {
      "cell_type": "code",
      "metadata": {
        "id": "0J0GWKoeVRAu",
        "colab_type": "code",
        "colab": {}
      },
      "source": [
        "import numpy as np\n",
        "from scipy.special import gamma\n",
        "from operator import add\n",
        "from math import sqrt, pi, exp, log2\n",
        "from functools import reduce\n",
        "import matplotlib.pyplot as plt\n",
        "import matplotlib.pylab as pylab\n",
        "params = {'legend.fontsize': 'x-large',\n",
        "          'figure.figsize': (15, 5),\n",
        "          'axes.labelsize': 'x-large',\n",
        "          'axes.titlesize': 'x-large',\n",
        "          'xtick.labelsize': 'x-large',\n",
        "          'ytick.labelsize': 'x-large'}\n",
        "pylab.rcParams.update(params)"
      ],
      "execution_count": 0,
      "outputs": []
    },
    {
      "cell_type": "code",
      "metadata": {
        "id": "TsOTv0xkVRA0",
        "colab_type": "code",
        "colab": {}
      },
      "source": [
        "class Distributions:\n",
        "    @staticmethod\n",
        "    def normal_density(mean, variance, x):\n",
        "        return 1 / sqrt(2 * pi * variance ** 2) * exp(- (x - mean) ** 2 / (2 * variance ** 2))\n",
        "      \n",
        "    @staticmethod\n",
        "    def get_normal_density(mean, variance, x_points):\n",
        "        return list(map(lambda p: Distributions.normal_density(mean, variance, p), x_points))\n",
        "\n",
        "    @staticmethod\n",
        "    def get_normal_points(mean, variance, count):\n",
        "        return np.random.normal(mean, variance, int(count))\n",
        "\n",
        "    @staticmethod\n",
        "    def uniform_density(left_bound, right_bound, x):\n",
        "        if left_bound <= x <= right_bound:\n",
        "            return 1 / (right_bound - left_bound)\n",
        "        return 0\n",
        "\n",
        "    @staticmethod\n",
        "    def get_uniform_points(left_bound, right_bound, count):\n",
        "        return np.random.uniform(left_bound, right_bound, int(count))\n",
        "\n",
        "    @staticmethod\n",
        "    def beta_density(a, b, x):\n",
        "        return gamma(a + b) / (gamma(a) * gamma(b)) * x ** (a - 1) * (1 - x) ** (b - 1)\n",
        "\n",
        "    @staticmethod\n",
        "    def get_beta_points(a, b, count):\n",
        "        return np.random.beta(a, b, int(count))"
      ],
      "execution_count": 0,
      "outputs": []
    },
    {
      "cell_type": "code",
      "metadata": {
        "id": "Q4-M1QvsVRA4",
        "colab_type": "code",
        "colab": {}
      },
      "source": [
        "class Parzen:\n",
        "    @staticmethod\n",
        "    def rect_kernel(z):\n",
        "        return 0.5 * int(abs(z) < 1)\n",
        "\n",
        "    @staticmethod\n",
        "    def density(x, points, h):\n",
        "        sum = 0\n",
        "        for p in points:\n",
        "            sum += Parzen.rect_kernel((x - p) / h)\n",
        "        return 1 / (len(points) * h) * sum\n",
        "\n",
        "    @staticmethod\n",
        "    def estimate_density(distr_points, h, test_points):\n",
        "        return list(map(lambda p: Parzen.density(p, distr_points, h),\n",
        "                        test_points))"
      ],
      "execution_count": 0,
      "outputs": []
    },
    {
      "cell_type": "code",
      "metadata": {
        "id": "WFYRFSARbefH",
        "colab_type": "code",
        "colab": {}
      },
      "source": [
        "class Plotter:\n",
        "    @staticmethod\n",
        "    def plot(distr_name,\n",
        "             test_points,\n",
        "             distr_density, est_density,\n",
        "             point_count):\n",
        "        plt.figure()\n",
        "\n",
        "        plt.plot(test_points, distr_density, 'go-', label=distr_name + \" density\")\n",
        "        plt.plot(test_points, est_density, 'bo-', label=\"est density\")\n",
        "\n",
        "        plt.title(\"Parzen window density estimation\"\n",
        "                  \"\\npoint count = \" + str(point_count),\n",
        "                  fontsize=20)\n",
        "        plt.xlabel(\"x\", fontsize=20)\n",
        "        plt.ylabel(\"density\", fontsize=20)\n",
        "        plt.grid(True)\n",
        "        plt.legend(loc=0, fontsize=20)\n",
        "\n",
        "        plt.show()\n",
        "        pass\n",
        "      \n",
        "    @staticmethod\n",
        "    def plot_ds(distr_name, point_counts, ds):\n",
        "        plt.figure()\n",
        "\n",
        "        plt.plot(point_counts, ds, 'bo-', label=\"KL\")\n",
        "\n",
        "        plt.title(\"KL Divergence\\non \" + distr_name + \"distribution\",\n",
        "                  fontsize=20)\n",
        "        plt.xlabel(\"n\", fontsize=20)\n",
        "        plt.ylabel(\"KL\", fontsize=20)\n",
        "        plt.grid(True)\n",
        "        plt.legend(loc=0, fontsize=20)\n",
        "\n",
        "        plt.show()\n",
        "        pass"
      ],
      "execution_count": 0,
      "outputs": []
    },
    {
      "cell_type": "code",
      "metadata": {
        "id": "k558qOLyVRA8",
        "colab_type": "code",
        "colab": {}
      },
      "source": [
        "class Distances:\n",
        "    @staticmethod\n",
        "    def l2(d1, d2):\n",
        "        return sqrt(reduce(add, map(lambda y1, y2: (y1 - y2) ** 2, d1, d2)))\n",
        "\n",
        "    @staticmethod\n",
        "    def kl(d1, d2):\n",
        "      return reduce(add, map(lambda e1, e2: e1 * log2(e1 / e2), d1, d2))"
      ],
      "execution_count": 0,
      "outputs": []
    },
    {
      "cell_type": "code",
      "metadata": {
        "id": "xq0lIJQ3VRBA",
        "colab_type": "code",
        "outputId": "42362f46-391c-451a-a0f7-eeb38cb9dca4",
        "colab": {
          "base_uri": "https://localhost:8080/",
          "height": 1000
        }
      },
      "source": [
        "# conditions\n",
        "test_points = np.arange(-3, 3, 0.1)\n",
        "window_size = 0.4\n",
        "\n",
        "# normal distribution\n",
        "mean, variance = 0, 1\n",
        "normal_density = Distributions.get_normal_density(mean, variance, test_points)\n",
        "\n",
        "point_counts = range(int(1e3), int(5e4), int(1e3))\n",
        "kl_ds = []\n",
        "for point_count in point_counts:\n",
        "    print(\"Estimating KL for\", point_count, \"points...\")\n",
        "    normal_points = Distributions.get_normal_points(mean, variance, point_count)\n",
        "    est_density = Parzen.estimate_density(normal_points, window_size, test_points)\n",
        "    kl = Distances.kl(normal_density, est_density)\n",
        "    print(\"KL =\", kl)\n",
        "    kl_ds.append(kl)"
      ],
      "execution_count": 0,
      "outputs": [
        {
          "output_type": "stream",
          "text": [
            "Estimating KL for 1000 points...\n",
            "KL = 0.08080930020878427\n",
            "Estimating KL for 2000 points...\n",
            "KL = 0.04999059807697225\n",
            "Estimating KL for 3000 points...\n",
            "KL = 0.027452767140831984\n",
            "Estimating KL for 4000 points...\n",
            "KL = 0.026436306776938305\n",
            "Estimating KL for 5000 points...\n",
            "KL = 0.05465169265667201\n",
            "Estimating KL for 6000 points...\n",
            "KL = -0.0011477715685308397\n",
            "Estimating KL for 7000 points...\n",
            "KL = 0.01823481840256773\n",
            "Estimating KL for 8000 points...\n",
            "KL = 0.03021615184018757\n",
            "Estimating KL for 9000 points...\n",
            "KL = 0.017835141821130412\n",
            "Estimating KL for 10000 points...\n",
            "KL = 0.016112389792806124\n",
            "Estimating KL for 11000 points...\n",
            "KL = 0.012405873473958473\n",
            "Estimating KL for 12000 points...\n",
            "KL = 0.017495086673829326\n",
            "Estimating KL for 13000 points...\n",
            "KL = 0.02110621280079179\n",
            "Estimating KL for 14000 points...\n",
            "KL = 0.018135958652790333\n",
            "Estimating KL for 15000 points...\n",
            "KL = 0.029963735560236158\n",
            "Estimating KL for 16000 points...\n",
            "KL = 0.01654022076638376\n",
            "Estimating KL for 17000 points...\n",
            "KL = 0.015525826622544965\n",
            "Estimating KL for 18000 points...\n",
            "KL = 0.027281626091034305\n",
            "Estimating KL for 19000 points...\n",
            "KL = 0.028881150786791928\n",
            "Estimating KL for 20000 points...\n",
            "KL = 0.012631026216759909\n",
            "Estimating KL for 21000 points...\n",
            "KL = 0.02616444627319415\n",
            "Estimating KL for 22000 points...\n",
            "KL = 0.01675771411671185\n",
            "Estimating KL for 23000 points...\n",
            "KL = 0.029237012280804078\n",
            "Estimating KL for 24000 points...\n",
            "KL = 0.018075019532147088\n",
            "Estimating KL for 25000 points...\n",
            "KL = 0.014179015032155688\n",
            "Estimating KL for 26000 points...\n",
            "KL = 0.013704158396241266\n",
            "Estimating KL for 27000 points...\n",
            "KL = 0.02264911664505666\n",
            "Estimating KL for 28000 points...\n",
            "KL = 0.025889048129721776\n",
            "Estimating KL for 29000 points...\n",
            "KL = 0.012036044196178493\n",
            "Estimating KL for 30000 points...\n",
            "KL = 0.017773478237613036\n",
            "Estimating KL for 31000 points...\n",
            "KL = 0.022624341600203546\n",
            "Estimating KL for 32000 points...\n",
            "KL = 0.01808906295361585\n",
            "Estimating KL for 33000 points...\n",
            "KL = 0.01797501929046896\n",
            "Estimating KL for 34000 points...\n",
            "KL = 0.022177477755755005\n",
            "Estimating KL for 35000 points...\n",
            "KL = 0.025840087566738897\n",
            "Estimating KL for 36000 points...\n",
            "KL = 0.01777167245965424\n",
            "Estimating KL for 37000 points...\n",
            "KL = 0.025563662342537805\n",
            "Estimating KL for 38000 points...\n",
            "KL = 0.025281900223914983\n",
            "Estimating KL for 39000 points...\n",
            "KL = 0.014236124303821204\n",
            "Estimating KL for 40000 points...\n",
            "KL = 0.019275156924819032\n",
            "Estimating KL for 41000 points...\n",
            "KL = 0.028098128213105172\n",
            "Estimating KL for 42000 points...\n",
            "KL = 0.01675984936292298\n",
            "Estimating KL for 43000 points...\n",
            "KL = 0.018783008795575987\n",
            "Estimating KL for 44000 points...\n",
            "KL = 0.017152475997914394\n",
            "Estimating KL for 45000 points...\n",
            "KL = 0.019354582461764747\n",
            "Estimating KL for 46000 points...\n",
            "KL = 0.012755984507585753\n",
            "Estimating KL for 47000 points...\n",
            "KL = 0.015099731292245308\n",
            "Estimating KL for 48000 points...\n",
            "KL = 0.023674925487656897\n",
            "Estimating KL for 49000 points...\n",
            "KL = 0.02203760032491335\n"
          ],
          "name": "stdout"
        }
      ]
    },
    {
      "cell_type": "code",
      "metadata": {
        "id": "GLwsIRaZiZcV",
        "colab_type": "code",
        "colab": {}
      },
      "source": [
        "# Plotter.plot(\"normal\", test_points, normal_density, est_density, point_count)"
      ],
      "execution_count": 0,
      "outputs": []
    },
    {
      "cell_type": "code",
      "metadata": {
        "id": "moUVjFhNhhGl",
        "colab_type": "code",
        "colab": {}
      },
      "source": [
        "# print(Distances.kl(normal_density, est_density))"
      ],
      "execution_count": 0,
      "outputs": []
    },
    {
      "cell_type": "code",
      "metadata": {
        "id": "v4gm1MBaVRBO",
        "colab_type": "code",
        "outputId": "e31cbfdc-c714-4b8b-dc42-bbbd55a664a8",
        "colab": {
          "base_uri": "https://localhost:8080/",
          "height": 390
        }
      },
      "source": [
        "Plotter.plot_ds(\"normal\", point_counts, kl_ds)"
      ],
      "execution_count": 0,
      "outputs": [
        {
          "output_type": "display_data",
          "data": {
            "image/png": "[encoded data removed]",
            "text/plain": [
              "<Figure size 1080x360 with 1 Axes>"
            ]
          },
          "metadata": {
            "tags": []
          }
        }
      ]
    }
  ]
}